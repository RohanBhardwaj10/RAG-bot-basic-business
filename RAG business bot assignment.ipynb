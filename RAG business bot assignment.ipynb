{
 "cells": [
  {
   "cell_type": "code",
   "execution_count": 3,
   "id": "0104dd09-c23d-4400-8e7a-1a3cb410da0e",
   "metadata": {},
   "outputs": [],
   "source": [
    "import os\n",
    "from dotenv import load_dotenv\n",
    "from langchain.embeddings.openai import OpenAIEmbeddings\n",
    "from langchain.text_splitter import CharacterTextSplitter\n",
    "from langchain.schema import Document\n"
   ]
  },
  {
   "cell_type": "code",
   "execution_count": 3,
   "id": "d91b4949-7dec-4276-95e7-5d5b582ed526",
   "metadata": {},
   "outputs": [],
   "source": [
    "from langchain.vectorstores import Pinecone as LangChainPinecone\n"
   ]
  },
  {
   "cell_type": "code",
   "execution_count": 4,
   "id": "8dbf75df-cf44-496d-96fc-1949a8ad08ee",
   "metadata": {},
   "outputs": [],
   "source": [
    "load_dotenv()\n",
    "\n",
    "os.environ['OPENAI_API_KEY'] = os.getenv(\"OPENAI_API_KEY\")\n",
    "os.environ['LANGCHAIN_API_KEY'] = os.getenv(\"LANGCHAIN_API_KEY\")\n",
    "os.environ['LANGCHAIN_TRACING_V2'] = \"true\"\n",
    "os.environ['LANGCHAIN_PROJECT'] = os.getenv(\"LANGCHAIN_PROJECT\")\n",
    "\n",
    "from pinecone import Pinecone\n",
    "\n",
    "pc = Pinecone(api_key=\"pcsk_27RFJe_URz8CQ48XctGgaJToz5zu3AULqo2PazExsj4fed28UDsqPTgZgAzvWgWVa7eRXR\")\n",
    "index = pc.Index(\"newindex\")\n",
    "\n"
   ]
  },
  {
   "cell_type": "code",
   "execution_count": 5,
   "id": "7dbe0277-e4e2-4fd0-90d2-8eccaf9615d9",
   "metadata": {
    "scrolled": true
   },
   "outputs": [],
   "source": [
    "business_docs = [\n",
    "    \"Our support team is available around the clock via chat, email, or phone.\",\n",
    "    \"We accept multiple payment options including UPI, debit cards, and corporate invoicing.\",\n",
    "    \"Standard delivery takes 3-5 working days, while express delivery is available at an extra charge.\",\n",
    "    \"Items can be exchanged or returned within 15 days, provided they are in original condition.\",\n",
    "    \"Subscription services renew automatically unless cancelled at least 48 hours before the billing date.\",\n",
    "    \"Bulk orders may qualify for special pricing and extended delivery timelines.\",\n",
    "    \"Digital products are delivered instantly to the registered email address after payment confirmation.\",\n",
    "    \"For warranty-related issues, customers must contact us within the first 12 months of purchase.\",\n",
    "]\n"
   ]
  },
  {
   "cell_type": "code",
   "execution_count": 6,
   "id": "d4fc96d1-7a42-461a-8556-a2956bb6f4aa",
   "metadata": {},
   "outputs": [
    {
     "name": "stderr",
     "output_type": "stream",
     "text": [
      "C:\\Users\\bhard\\AppData\\Local\\Temp\\ipykernel_8644\\1279769366.py:1: LangChainDeprecationWarning: The class `OpenAIEmbeddings` was deprecated in LangChain 0.0.9 and will be removed in 1.0. An updated version of the class exists in the :class:`~langchain-openai package and should be used instead. To use it run `pip install -U :class:`~langchain-openai` and import as `from :class:`~langchain_openai import OpenAIEmbeddings``.\n",
      "  embedding=OpenAIEmbeddings()\n"
     ]
    },
    {
     "data": {
      "text/plain": [
       "[Document(metadata={}, page_content='Our support team is available around the clock via chat, email, or phone.'),\n",
       " Document(metadata={}, page_content='We accept multiple payment options including UPI, debit cards, and corporate invoicing.'),\n",
       " Document(metadata={}, page_content='Standard delivery takes 3-5 working days, while express delivery is available at an extra charge.'),\n",
       " Document(metadata={}, page_content='Items can be exchanged or returned within 15 days, provided they are in original condition.'),\n",
       " Document(metadata={}, page_content='Subscription services renew automatically unless cancelled at least 48 hours before the billing date.'),\n",
       " Document(metadata={}, page_content='Bulk orders may qualify for special pricing and extended delivery timelines.'),\n",
       " Document(metadata={}, page_content='Digital products are delivered instantly to the registered email address after payment confirmation.'),\n",
       " Document(metadata={}, page_content='For warranty-related issues, customers must contact us within the first 12 months of purchase.')]"
      ]
     },
     "execution_count": 6,
     "metadata": {},
     "output_type": "execute_result"
    }
   ],
   "source": [
    "embedding=OpenAIEmbeddings()\n",
    "docs = [Document(page_content=txt) for txt in business_docs]\n",
    "docs"
   ]
  },
  {
   "cell_type": "code",
   "execution_count": 7,
   "id": "9cad0998-2d3b-4730-89da-6dc016696bc9",
   "metadata": {},
   "outputs": [],
   "source": [
    "#split text in chunks for better efficiency of context vctr size of llm\n",
    "text_splt=CharacterTextSplitter(chunk_size=100, chunk_overlap=10)\n",
    "doc_splt=text_splt.split_documents(docs)"
   ]
  },
  {
   "cell_type": "code",
   "execution_count": 8,
   "id": "e4dcc927-8ef2-4caa-80f2-f78d4c8252c7",
   "metadata": {},
   "outputs": [],
   "source": [
    "from langchain_pinecone import PineconeVectorStore\n"
   ]
  },
  {
   "cell_type": "code",
   "execution_count": 10,
   "id": "77b0c427-dbf1-4896-8df8-3b3f0c6a4ef0",
   "metadata": {},
   "outputs": [],
   "source": [
    "vectorstore = PineconeVectorStore.from_documents(\n",
    "    documents=doc_splt,\n",
    "    embedding=embedding,\n",
    "    index_name=\"newindex\",\n",
    "    pinecone_api_key=\"pcsk_27RFJe_URz8CQ48XctGgaJToz5zu3AULqo2PazExsj4fed28UDsqPTgZgAzvWgWVa7eRXR\"\n",
    ")"
   ]
  },
  {
   "cell_type": "code",
   "execution_count": 12,
   "id": "61a66112-983d-4bcf-98e3-0bbd2b98e3f7",
   "metadata": {},
   "outputs": [],
   "source": [
    "from langchain.chat_models import ChatOpenAI\n",
    "from langchain.chains import RetrievalQA"
   ]
  },
  {
   "cell_type": "code",
   "execution_count": 13,
   "id": "4cde4dd2-7b80-4d3f-984a-83910bbf1e4b",
   "metadata": {},
   "outputs": [
    {
     "name": "stderr",
     "output_type": "stream",
     "text": [
      "C:\\Users\\bhard\\AppData\\Local\\Temp\\ipykernel_8644\\1964788120.py:1: LangChainDeprecationWarning: The class `ChatOpenAI` was deprecated in LangChain 0.0.10 and will be removed in 1.0. An updated version of the class exists in the :class:`~langchain-openai package and should be used instead. To use it run `pip install -U :class:`~langchain-openai` and import as `from :class:`~langchain_openai import ChatOpenAI``.\n",
      "  llm=ChatOpenAI()\n"
     ]
    }
   ],
   "source": [
    "llm=ChatOpenAI()"
   ]
  },
  {
   "cell_type": "code",
   "execution_count": 14,
   "id": "55da38c6-57c0-4552-b964-6091c2df8e93",
   "metadata": {},
   "outputs": [],
   "source": [
    "answer_chain = RetrievalQA.from_chain_type(\n",
    "    llm=llm,\n",
    "    retriever=vectorstore.as_retriever(),\n",
    "    chain_type=\"stuff\"\n",
    ")"
   ]
  },
  {
   "cell_type": "code",
   "execution_count": 15,
   "id": "3eb1d3dd-7983-4f0b-8d1d-7cdecbeefd91",
   "metadata": {},
   "outputs": [
    {
     "name": "stderr",
     "output_type": "stream",
     "text": [
      "C:\\Users\\bhard\\AppData\\Local\\Temp\\ipykernel_8644\\2051025263.py:1: LangChainDeprecationWarning: The method `Chain.run` was deprecated in langchain 0.1.0 and will be removed in 1.0. Use :meth:`~invoke` instead.\n",
      "  print(answer_chain.run(\"Do you have 24/7 customer support?\"))\n"
     ]
    },
    {
     "name": "stdout",
     "output_type": "stream",
     "text": [
      "Yes, our support team is available around the clock via chat, email, or phone.\n"
     ]
    }
   ],
   "source": [
    "print(answer_chain.run(\"Do you have 24/7 customer support?\"))\n"
   ]
  },
  {
   "cell_type": "code",
   "execution_count": null,
   "id": "10531e3c-1bd2-4eac-8b32-b8092a97bc6f",
   "metadata": {},
   "outputs": [],
   "source": []
  }
 ],
 "metadata": {
  "kernelspec": {
   "display_name": "Python (llm_env)",
   "language": "python",
   "name": "llm_env"
  },
  "language_info": {
   "codemirror_mode": {
    "name": "ipython",
    "version": 3
   },
   "file_extension": ".py",
   "mimetype": "text/x-python",
   "name": "python",
   "nbconvert_exporter": "python",
   "pygments_lexer": "ipython3",
   "version": "3.10.18"
  }
 },
 "nbformat": 4,
 "nbformat_minor": 5
}
